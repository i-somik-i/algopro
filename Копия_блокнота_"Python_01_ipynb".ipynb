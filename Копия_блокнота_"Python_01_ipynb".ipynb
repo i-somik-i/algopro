{
  "nbformat": 4,
  "nbformat_minor": 0,
  "metadata": {
    "colab": {
      "provenance": [],
      "include_colab_link": true
    },
    "kernelspec": {
      "name": "python3",
      "display_name": "Python 3"
    },
    "language_info": {
      "name": "python"
    }
  },
  "cells": [
    {
      "cell_type": "markdown",
      "metadata": {
        "id": "view-in-github",
        "colab_type": "text"
      },
      "source": [
        "<a href=\"https://colab.research.google.com/github/i-somik-i/algopro/blob/main/%D0%9A%D0%BE%D0%BF%D0%B8%D1%8F_%D0%B1%D0%BB%D0%BE%D0%BA%D0%BD%D0%BE%D1%82%D0%B0_%22Python_01_ipynb%22.ipynb\" target=\"_parent\"><img src=\"https://colab.research.google.com/assets/colab-badge.svg\" alt=\"Open In Colab\"/></a>"
      ]
    },
    {
      "cell_type": "markdown",
      "metadata": {
        "id": "Z1m_iFgErzIu"
      },
      "source": [
        "# ТЕМА 1. Синтаксис языка Python"
      ]
    },
    {
      "cell_type": "markdown",
      "metadata": {
        "id": "yCXEvAYZRg7Y"
      },
      "source": [
        "> Беляков Андрей Юрьевич, кафедра ИТиПИ"
      ]
    },
    {
      "cell_type": "markdown",
      "metadata": {
        "id": "FSrelvJzQq5M"
      },
      "source": [
        "В этой лекции знакомимся с языком программирования и \n",
        "исследуем базовые вопросы - как организовать диалог пользователя с программой на языке **Python**.  \n",
        "\n",
        "[Рейтинг языков программирования](https://tiobe.com/tiobe-index/)  \n",
        "Автор языка - [Гвидо ван Россум](https://ru.wikipedia.org/wiki/%D0%92%D0%B0%D0%BD_%D0%A0%D0%BE%D1%81%D1%81%D1%83%D0%BC,_%D0%93%D0%B2%D0%B8%D0%B4%D0%BE)  \n",
        "[Философия Питона](https://ru.wikipedia.org/wiki/Python)  "
      ]
    },
    {
      "cell_type": "markdown",
      "metadata": {
        "id": "IEGAnfwk6FML"
      },
      "source": [
        "## Переменные и типы данных"
      ]
    },
    {
      "cell_type": "markdown",
      "metadata": {
        "id": "o3zrJwhE3ny-"
      },
      "source": [
        "Чтобы пользователь мог взаимодействовать с компьютерной программой необходимо организовать интерфейс пользователя - ввод данных (функция input) и вывод результатов работы на экран (функция print):  "
      ]
    },
    {
      "cell_type": "code",
      "metadata": {
        "id": "tEW-Kzya5XWx",
        "colab": {
          "base_uri": "https://localhost:8080/"
        },
        "outputId": "25b75a81-6303-4ade-d807-84506d91fd3d"
      },
      "source": [
        "print(12+12-55)"
      ],
      "execution_count": null,
      "outputs": [
        {
          "output_type": "stream",
          "name": "stdout",
          "text": [
            "-31\n"
          ]
        }
      ]
    },
    {
      "cell_type": "markdown",
      "metadata": {
        "id": "1HF3ExPTHWIF"
      },
      "source": [
        "Для запуска программы можно использовать сочетание клавиш Ctrl + Enter (курсор должен стоять в тексте программы).  "
      ]
    },
    {
      "cell_type": "code",
      "metadata": {
        "id": "sierA5e56TcS",
        "colab": {
          "base_uri": "https://localhost:8080/"
        },
        "outputId": "30ad1569-f80f-4f07-afbb-ebc90cfa9845"
      },
      "source": [
        "x = input()\n",
        "print(x)"
      ],
      "execution_count": null,
      "outputs": [
        {
          "output_type": "stream",
          "name": "stdout",
          "text": [
            "123\n",
            "123\n"
          ]
        }
      ]
    },
    {
      "cell_type": "markdown",
      "metadata": {
        "id": "CKIDr8xNHk2b"
      },
      "source": [
        "Для хранения промежуточных результатов используются переменные. Переменная - это область памяти, в которую можно заносить, хранить или изменять данные. То как программа будет взаимодействовать с этими данными, как отображать на экране зависит от установленного для соответсвующей переменной типа данных.  "
      ]
    },
    {
      "cell_type": "markdown",
      "metadata": {
        "id": "hUjOM83OZXPS"
      },
      "source": [
        "Типы данных в Питоне:\n",
        "- числа\n",
        "    - целые int\n",
        "    - вещественные float (с запятой)\n",
        "- логический bool\n",
        "    - True, False\n",
        "- последовательности\n",
        "    - строки str\n",
        "    - кортежи tuple\n",
        "    - списки list\n",
        "- отображения\n",
        "    - словарь dict\n",
        "- классы class\n",
        "- файлы file\n",
        "- функции def\n"
      ]
    },
    {
      "cell_type": "markdown",
      "metadata": {
        "id": "h_Lzare5JhSB"
      },
      "source": [
        "Организуем диалог с пользователем для нахождения суммы двух целых чисел, введённых с клавиатуры:"
      ]
    },
    {
      "cell_type": "code",
      "metadata": {
        "id": "DpPBfEHgavtS",
        "colab": {
          "base_uri": "https://localhost:8080/"
        },
        "outputId": "2e7432a3-454b-4a33-a9b4-22bdb178964f"
      },
      "source": [
        "x = input(\"Введите первое число - \")\n",
        "y = input(\"Введите второе число - \")\n",
        "print(\"Сумма чисел =\", x + y)"
      ],
      "execution_count": null,
      "outputs": [
        {
          "output_type": "stream",
          "name": "stdout",
          "text": [
            "Введите первое число - 22\n",
            "Введите второе число - 33\n",
            "Сумма чисел = 2233\n"
          ]
        }
      ]
    },
    {
      "cell_type": "markdown",
      "metadata": {
        "id": "cVH00OwGJmYH"
      },
      "source": [
        "При таком суммировании ответ будет ошибочным, так как тип данных, который возвращает функция input - строковый, поэтому переменные x и y хранят строки и суммируются как строки."
      ]
    },
    {
      "cell_type": "markdown",
      "metadata": {
        "id": "lunVGc1OKAfU"
      },
      "source": [
        "Если мы хотим суммировать вводимые данные как числа, то следует их привести к числовому типу данных (функции int или float)."
      ]
    },
    {
      "cell_type": "code",
      "metadata": {
        "id": "Lz4KygZ_bDj0"
      },
      "source": [
        "x = float(input(\"Введите первое число - \"))\n",
        "y = float(input(\"Введите второе число - \"))\n",
        "print(\"Сумма чисел =\", x + y)"
      ],
      "execution_count": null,
      "outputs": []
    },
    {
      "cell_type": "markdown",
      "metadata": {
        "id": "5fgUnC4O4UYu"
      },
      "source": [
        "Как узнать тип данных, которые хранит переменная:"
      ]
    },
    {
      "cell_type": "code",
      "metadata": {
        "id": "t7gccvPz5wQ0",
        "colab": {
          "base_uri": "https://localhost:8080/"
        },
        "outputId": "c86d5086-3c07-4436-8a15-67edad6be002"
      },
      "source": [
        "g = float(input(\"введите число - \"))\n",
        "print(g*2)  # будет умножение строки, не числа\n",
        "print(type(g))  # str"
      ],
      "execution_count": null,
      "outputs": [
        {
          "output_type": "stream",
          "name": "stdout",
          "text": [
            "введите число - 153325142315\n",
            "306650284630.0\n",
            "<class 'float'>\n"
          ]
        }
      ]
    },
    {
      "cell_type": "code",
      "metadata": {
        "id": "xrm1q1PJ4Xuk",
        "colab": {
          "base_uri": "https://localhost:8080/"
        },
        "outputId": "8bcf7c30-e09f-4b0e-bbc7-3bb58c8d8e3d"
      },
      "source": [
        "z = 120 / 34  # результат деления вещественный\n",
        "print(z, '\\t', type(z))\n",
        "\n",
        "z = 120 + 34  # результат сложения целых чисел - целочисленный\n",
        "print(z, '\\t', type(z))\n",
        "\n",
        "z = 2**200  # длинная арифметика поддерживается\n",
        "print(z, '\\t', type(z))\n",
        "\n",
        "import math\n",
        "\n",
        "z = math.pow(2, 10)  # результат вещественный\n",
        "print(z, '\\t', type(z))"
      ],
      "execution_count": null,
      "outputs": [
        {
          "output_type": "stream",
          "name": "stdout",
          "text": [
            "3.5294117647058822 \t <class 'float'>\n",
            "154 \t <class 'int'>\n",
            "1606938044258990275541962092341162602522202993782792835301376 \t <class 'int'>\n",
            "1024.0 \t <class 'float'>\n"
          ]
        }
      ]
    },
    {
      "cell_type": "markdown",
      "metadata": {
        "id": "LVkok-ypLaJy"
      },
      "source": [
        "Результат можно приводить к нужному типу данных:"
      ]
    },
    {
      "cell_type": "code",
      "metadata": {
        "id": "7ouDCQBlb9Wh",
        "colab": {
          "base_uri": "https://localhost:8080/"
        },
        "outputId": "fcc3e344-56d7-484b-82f2-afb5baecaddf"
      },
      "source": [
        "x = 120\n",
        "y = 2\n",
        "\n",
        "z = x / y\n",
        "print(z)\n",
        "\n",
        "z = int(x / y)  # получится деление нацело\n",
        "print(z)\n",
        "\n",
        "z = float(x + y)\n",
        "print(z)\n",
        "\n",
        "z = int(math.pow(2, 10))  # результат целочисленный\n",
        "print(z, '\\t', type(z))"
      ],
      "execution_count": null,
      "outputs": [
        {
          "output_type": "stream",
          "name": "stdout",
          "text": [
            "60.0\n",
            "60\n",
            "122.0\n",
            "1024 \t <class 'int'>\n"
          ]
        }
      ]
    },
    {
      "cell_type": "markdown",
      "metadata": {
        "id": "9aGv7ARDFErZ"
      },
      "source": [
        "---  "
      ]
    },
    {
      "cell_type": "markdown",
      "metadata": {
        "id": "9NtQTHkj6tVB"
      },
      "source": [
        "## Операции"
      ]
    },
    {
      "cell_type": "markdown",
      "metadata": {
        "id": "YEItUYgyARds"
      },
      "source": [
        "Арифметические операции:"
      ]
    },
    {
      "cell_type": "code",
      "metadata": {
        "id": "M4G2yOZGAYAj"
      },
      "source": [
        "x = 10\n",
        "\n",
        "print(x**2)  # возведение в степень\n",
        "print(x**(1/2))  # возведение в степень .5 = корень квадратный\n",
        "\n",
        "x += 1  # сокращённая форма записи арифм операции: x = x + 1\n",
        "print(x)\n",
        "\n",
        "x *= 2  # x = x * 2\n",
        "print(x)"
      ],
      "execution_count": null,
      "outputs": []
    },
    {
      "cell_type": "markdown",
      "metadata": {
        "id": "G-lhUKuX_xj7"
      },
      "source": [
        "Целочисленные операции:"
      ]
    },
    {
      "cell_type": "code",
      "metadata": {
        "id": "gPkOPnvg_wYd",
        "colab": {
          "base_uri": "https://localhost:8080/"
        },
        "outputId": "37d63cd1-f344-405c-9e74-ef596ca6eb6b"
      },
      "source": [
        "x = 17; y = 5  # символ ';' позволяет размещать инструкции на одной строке\n",
        "\n",
        "print(x // y)  # целочисленное деление\n",
        "print(x % y)  # остаток от целочисленного деления"
      ],
      "execution_count": null,
      "outputs": [
        {
          "output_type": "stream",
          "name": "stdout",
          "text": [
            "3\n",
            "2\n"
          ]
        }
      ]
    },
    {
      "cell_type": "markdown",
      "metadata": {
        "id": "h-B8bevTEqV1"
      },
      "source": [
        "Можно использовать специальную функцию divmod:  "
      ]
    },
    {
      "cell_type": "code",
      "metadata": {
        "colab": {
          "base_uri": "https://localhost:8080/"
        },
        "id": "K1278MVJEyuO",
        "outputId": "eb5ca929-d81d-4698-aa1a-0d48dd2bffb8"
      },
      "source": [
        "# divmod - функция возвращает два значения\n",
        "\n",
        "a, b = divmod(12, 4)\n",
        "print(f\"div = {a}\\nmod = {b}\")"
      ],
      "execution_count": null,
      "outputs": [
        {
          "output_type": "stream",
          "name": "stdout",
          "text": [
            "div = 3\n",
            "mod = 0\n"
          ]
        }
      ]
    },
    {
      "cell_type": "markdown",
      "metadata": {
        "id": "-CRd2if___c8"
      },
      "source": [
        "Операции округления:"
      ]
    },
    {
      "cell_type": "code",
      "metadata": {
        "id": "7QCu-BlkebtE",
        "colab": {
          "base_uri": "https://localhost:8080/"
        },
        "outputId": "9817a2ac-f738-446b-cddd-e6886d3a6291"
      },
      "source": [
        "import math  # импортируем библиотеку\n",
        "\n",
        "x = 7; y = 3\n",
        "x, y = 7, 3  # можно и так, это множественное присваивание\n",
        "\n",
        "z = math.floor(x / y)  # округляем вниз\n",
        "print(z)\n",
        "\n",
        "z = math.ceil(x / y)  # округляем вверх\n",
        "print(z)\n",
        "\n",
        "z = round(x / y)  # по матем правилу 0.5 и выше\n",
        "print(z)\n",
        "\n",
        "z = round(x / y, 3)  # до кол-ва знаков после запятой\n",
        "print(z)"
      ],
      "execution_count": null,
      "outputs": [
        {
          "output_type": "stream",
          "name": "stdout",
          "text": [
            "2\n",
            "3\n",
            "2\n",
            "2.333\n"
          ]
        }
      ]
    },
    {
      "cell_type": "markdown",
      "metadata": {
        "id": "vljbqxhg-KVO"
      },
      "source": [
        "Операции сдвига:"
      ]
    },
    {
      "cell_type": "code",
      "metadata": {
        "id": "zLHa4jh197di",
        "colab": {
          "base_uri": "https://localhost:8080/"
        },
        "outputId": "f065cf1d-0fcd-4641-9e8b-90935cc185ba"
      },
      "source": [
        "x = 3\n",
        "y = x << 1  # влево\n",
        "print(y)\n",
        "print(f'{y:08b}')\n",
        "y = x << 2\n",
        "print(y)\n",
        "print(f'{y:09_b}')\n",
        "y = x << 3\n",
        "print(y)\n",
        "print(f'{y:09_b}')\n"
      ],
      "execution_count": null,
      "outputs": [
        {
          "output_type": "stream",
          "name": "stdout",
          "text": [
            "6\n",
            "00000110\n",
            "12\n",
            "0000_1100\n",
            "24\n",
            "0001_1000\n"
          ]
        }
      ]
    },
    {
      "cell_type": "code",
      "metadata": {
        "id": "vduFICIy-OLQ",
        "colab": {
          "base_uri": "https://localhost:8080/"
        },
        "outputId": "003e0f8e-5643-4410-f6d3-9877a562d3f6"
      },
      "source": [
        "x = 15\n",
        "print(f'{x:09_b}')\n",
        "y = x >> 1  # вправо\n",
        "print(y)\n",
        "print(f'{y:09_b}')\n",
        "y = x >> 2\n",
        "print(y)\n",
        "print(f'{y:09_b}')\n",
        "y = x >> 3\n",
        "print(y)\n",
        "print(f'{y:09_b}')"
      ],
      "execution_count": null,
      "outputs": [
        {
          "output_type": "stream",
          "name": "stdout",
          "text": [
            "0000_1111\n",
            "7\n",
            "0000_0111\n",
            "3\n",
            "0000_0011\n",
            "1\n",
            "0000_0001\n"
          ]
        }
      ]
    },
    {
      "cell_type": "markdown",
      "metadata": {
        "id": "wAw9_GKeHd6Q"
      },
      "source": [
        "Унарная операция побитовой инверсии:"
      ]
    },
    {
      "cell_type": "code",
      "metadata": {
        "colab": {
          "base_uri": "https://localhost:8080/"
        },
        "id": "oCd1wrTbHi2r",
        "outputId": "40a713fd-962c-46b2-9264-22b8023eb4c6"
      },
      "source": [
        "x = 0\n",
        "y = ~x\n",
        "print(y)\n",
        "\n",
        "\n",
        "print(f'{x:09_b}')\n",
        "\n",
        "print(f'{y:010_b}')"
      ],
      "execution_count": null,
      "outputs": [
        {
          "output_type": "stream",
          "name": "stdout",
          "text": [
            "-1\n",
            "0000_0000\n",
            "-0000_0001\n"
          ]
        }
      ]
    },
    {
      "cell_type": "markdown",
      "metadata": {
        "id": "W0CnRnQyHxUo"
      },
      "source": [
        "Почему в ответе получилось -2?\n",
        "\n",
        "Обсудим это, ограничив для удобства предствление двоичных чисел восемью разрядами. Тогда в двоичной системе число 1 выглядит так:  \n",
        "00000001  \n",
        "При инвертировании разрядов этого двоичного числа получаем:  \n",
        "11111110  \n",
        "Это инверсный или **обратный код** числа. Что это за число такое?  \n",
        "\n",
        "Проведём исследование:  \n",
        "1) Давайте попробуем добавить к нему 1, будет:  \n",
        "11111111  \n",
        "2) Давайте ещё добавим 1, получится:  \n",
        "00000000  \n",
        "(единица, которая вышла за пределы старшего разряда никуда не записывается, а просто отбрасывается).  \n",
        "\n",
        "Таким образом, нам потребовалось добавить две единицы, чтобы получить ноль, иначе говоря это было число -2.  \n",
        "Итак, двоичное \"11111110\" это десятичное отрицательное \"-2\".  \n",
        "Да, общепринятый способ кодирования целых чисел такой, что половина диапазона отдаётся на положительные числа, а вторая - на отрицательные, например, для 8-ми битной разрядной сетки это выглядит так:  \n",
        "- от 00000000(2) до 01111111(2), то есть от 0(10) до 127(10) - это положительные  \n",
        "- от 10000000(2) до 11111111(2), то есть от -128(10) до -1(10) - это положительные  \n",
        "\n",
        "Таким образом, чтобы записать десятичное число -1 в двоичной системе, нужно взять двоичное представление положительного числа (то есть взять +1 = 00000001) и инвертировать это двоичное представление (получится 11111110), затем прибавить к младшему разряду +1 (получится 11111111).  Получившийся результат называют **дополнительным кодом** числа.\n"
      ]
    },
    {
      "cell_type": "markdown",
      "metadata": {
        "id": "PdiBOuJ5-fmS"
      },
      "source": [
        "Операции сравнения:"
      ]
    },
    {
      "cell_type": "code",
      "metadata": {
        "id": "EsymMHMX-iMp",
        "colab": {
          "base_uri": "https://localhost:8080/"
        },
        "outputId": "4b271d87-c4cb-4419-f1eb-7785e83a2d56"
      },
      "source": [
        "x, y = 2, 3\n",
        "\n",
        "z = x > y\n",
        "print(z)\n",
        "\n",
        "z = x < y\n",
        "print(z)\n",
        "\n",
        "z = x >= y\n",
        "print(z)\n",
        "\n",
        "z = x == y  # двойной знак равно - это операция сравнения \"РАВНО?\"\n",
        "print(z)\n",
        "\n",
        "z = x != y  # это операция сравнения \"НЕ РАВНО?\"\n",
        "print(z)"
      ],
      "execution_count": null,
      "outputs": [
        {
          "output_type": "stream",
          "name": "stdout",
          "text": [
            "False\n",
            "True\n",
            "False\n",
            "False\n",
            "True\n"
          ]
        }
      ]
    },
    {
      "cell_type": "markdown",
      "metadata": {
        "id": "o68o41IY--2x"
      },
      "source": [
        "Побитовые операции:"
      ]
    },
    {
      "cell_type": "code",
      "metadata": {
        "id": "LAp-nMwc_Bz1",
        "colab": {
          "base_uri": "https://localhost:8080/"
        },
        "outputId": "70583f0d-fb19-4b04-8fca-0b5e682d3289"
      },
      "source": [
        "x, y = 0, 1\n",
        "print(x & y)  # побитовый AND - И\n",
        "print(x | y)  # побитовый OR - ИЛИ\n",
        "print(x ^ y)  # побитовый XOR - исключающее или"
      ],
      "execution_count": null,
      "outputs": [
        {
          "output_type": "stream",
          "name": "stdout",
          "text": [
            "0\n",
            "1\n",
            "1\n"
          ]
        }
      ]
    },
    {
      "cell_type": "code",
      "metadata": {
        "id": "Rql-eKNZBGT9",
        "colab": {
          "base_uri": "https://localhost:8080/"
        },
        "outputId": "5d49f449-0972-4684-ddbe-67ca19531c76"
      },
      "source": [
        "x = 5; y = 6\n",
        "\n",
        "z = x & y\n",
        "print(z)\n",
        "\n",
        "z = x | y\n",
        "print(z)\n",
        "\n",
        "z = x ^ y\n",
        "print(z)"
      ],
      "execution_count": null,
      "outputs": [
        {
          "output_type": "stream",
          "name": "stdout",
          "text": [
            "4\n",
            "7\n",
            "3\n"
          ]
        }
      ]
    },
    {
      "cell_type": "markdown",
      "metadata": {
        "id": "JMlyL3WxEDIZ"
      },
      "source": [
        "Цикл и побитовые операции:"
      ]
    },
    {
      "cell_type": "code",
      "metadata": {
        "id": "kHRrsvGNDtd9",
        "colab": {
          "base_uri": "https://localhost:8080/"
        },
        "outputId": "d67859be-cd3d-45e9-ebbd-90fa0d5c81f0"
      },
      "source": [
        "print('x' ' y ' \"=> & | ^\")\n",
        "for x, y in (1,1), (0,1), (8,9), (0,0):\n",
        "    print(x, y, \"=>\", x&y, x|y, x^y)"
      ],
      "execution_count": null,
      "outputs": [
        {
          "output_type": "stream",
          "name": "stdout",
          "text": [
            "x y => & | ^\n",
            "1 1 => 1 1 0\n",
            "0 1 => 0 1 1\n",
            "8 9 => 8 9 1\n",
            "0 0 => 0 0 0\n"
          ]
        }
      ]
    },
    {
      "cell_type": "markdown",
      "metadata": {
        "id": "DNoDEVn9_T7d"
      },
      "source": [
        "Логические операции:"
      ]
    },
    {
      "cell_type": "code",
      "metadata": {
        "id": "XKKZqihD_Wfg"
      },
      "source": [
        "x = 12\n",
        "if x > 10 and x % 2 == 0:  # если x больше 10 и чётно\n",
        "    result = \"+++\"\n",
        "else:\n",
        "    result = \"---\"\n",
        "print(result)"
      ],
      "execution_count": null,
      "outputs": []
    },
    {
      "cell_type": "code",
      "metadata": {
        "colab": {
          "base_uri": "https://localhost:8080/"
        },
        "id": "G6BX0QrXBsM_",
        "outputId": "0b69e045-7c90-40c1-f2bd-2de05d2a580c"
      },
      "source": [
        "x = 13\n",
        "if x > 100 or x % 2 != 0:  # если x больше 100 или нечётно\n",
        "    result = \"+++\"\n",
        "else:\n",
        "    result = \"---\"\n",
        "print(result)"
      ],
      "execution_count": null,
      "outputs": [
        {
          "output_type": "stream",
          "name": "stdout",
          "text": [
            "+++\n"
          ]
        }
      ]
    },
    {
      "cell_type": "markdown",
      "metadata": {
        "id": "uvUAT_nUBvo1"
      },
      "source": [
        "Тернарная условная операция:"
      ]
    },
    {
      "cell_type": "code",
      "metadata": {
        "id": "JCllYFvvByIY"
      },
      "source": [
        "x = 12\n",
        "result = \"+++\" if x > 10 and x % 2 == 0 else \"---\"\n",
        "print(result)"
      ],
      "execution_count": null,
      "outputs": []
    },
    {
      "cell_type": "markdown",
      "metadata": {
        "id": "Kznz5ovXFBel"
      },
      "source": [
        "---  "
      ]
    },
    {
      "cell_type": "markdown",
      "metadata": {
        "id": "OEha7KHrJgXk"
      },
      "source": [
        "## Ветвления"
      ]
    },
    {
      "cell_type": "markdown",
      "metadata": {
        "id": "hLLV7fu4JngS"
      },
      "source": [
        "Структурные операторы ветвления позволяют поток выполнения программы разбивать на два или более альтернативных пути в зависимости от текущих условий.  \n",
        "Допустим, если пользователь ввёл чётное число, то нужно поделить его нацело на два, а, если нечётное, то вычесть единицу и поделить нацело на два:"
      ]
    },
    {
      "cell_type": "code",
      "metadata": {
        "colab": {
          "base_uri": "https://localhost:8080/"
        },
        "id": "LXaCRpHxJl4J",
        "outputId": "8f0476b9-432e-490c-e7b5-3b1730f3ef4c"
      },
      "source": [
        "num = int(input(\"Введите целое число от 1 до 100 - \"))\n",
        "if num % 2 == 0:  # проверка на чётность\n",
        "    num //= 2  # сокращённая форма записи операции num = num // 2\n",
        "else:\n",
        "    num = (num - 1) // 2\n",
        "print(num)"
      ],
      "execution_count": null,
      "outputs": [
        {
          "output_type": "stream",
          "name": "stdout",
          "text": [
            "Введите целое число от 1 до 100 - 43\n",
            "21\n"
          ]
        }
      ]
    },
    {
      "cell_type": "markdown",
      "metadata": {
        "id": "samS6vU-LL_G"
      },
      "source": [
        "Если нужно организовать несколько путей (больше двух), то можно воспользоваться директивой elif:"
      ]
    },
    {
      "cell_type": "code",
      "metadata": {
        "colab": {
          "base_uri": "https://localhost:8080/"
        },
        "id": "YeisoCFgLWR9",
        "outputId": "3bc6dda9-2fa1-417e-cc39-5c1ae65b8eeb"
      },
      "source": [
        "# определить делится нацело на 2, на 3 или на 5\n",
        "num = int(input(\"Введите целое число от 1 до 100 - \"))\n",
        "result = \"Делится нацело на - \"\n",
        "if num % 2 == 0:\n",
        "    result += str(2)\n",
        "elif num % 3 == 0:\n",
        "    result += str(3)\n",
        "elif num % 5 == 0:\n",
        "    result += str(5)\n",
        "else:\n",
        "    result = \"Не делится нацело\"\n",
        "print(result)"
      ],
      "execution_count": null,
      "outputs": [
        {
          "output_type": "stream",
          "name": "stdout",
          "text": [
            "Введите целое число от 1 до 100 - 12\n",
            "Делится нацело на - 2\n"
          ]
        }
      ]
    },
    {
      "cell_type": "markdown",
      "metadata": {
        "id": "F8z1Qp7mMa8p"
      },
      "source": [
        "При оформлении программного кода следует отделять интерфейс пользователя от бизнес-логики:"
      ]
    },
    {
      "cell_type": "code",
      "metadata": {
        "id": "LKGtoj1CMj1Q",
        "colab": {
          "base_uri": "https://localhost:8080/"
        },
        "outputId": "b65ab7ff-508c-4a0d-c089-0767d79039a5"
      },
      "source": [
        "num = int(input(\"Введите целое число от 1 до 100 - \"))\n",
        "\n",
        "result = \"Делится нацело на - \"\n",
        "if num % 2 == 0:\n",
        "    result += str(2)\n",
        "elif num % 3 == 0:\n",
        "    result += str(3)\n",
        "elif num % 5 == 0:\n",
        "    result += str(5)\n",
        "else:\n",
        "    result = \"Не делится нацело\"\n",
        "    \n",
        "print(result)"
      ],
      "execution_count": null,
      "outputs": [
        {
          "output_type": "stream",
          "name": "stdout",
          "text": [
            "Введите целое число от 1 до 100 - 45\n",
            "Делится нацело на - 3\n"
          ]
        }
      ]
    },
    {
      "cell_type": "markdown",
      "metadata": {
        "id": "TZjqsjyuMoYZ"
      },
      "source": [
        "Тут первая и последняя строки относятся к интерфейсу пользователя, а остальный (3-11) - к бизнес-логике. Для удобства их, как правило, оформляют в виде функции, например, так:"
      ]
    },
    {
      "cell_type": "code",
      "metadata": {
        "colab": {
          "base_uri": "https://localhost:8080/"
        },
        "id": "fgoQ5WodM4xT",
        "outputId": "3c8d2c33-fa02-4082-e5b1-0e2a76afe4c4"
      },
      "source": [
        "# пример оформления программы\n",
        "# с разделением интерфейса пользователя и бизнес-логики\n",
        "\n",
        "def get_result(num):\n",
        "    result = \"Делится нацело на - \"\n",
        "    if num % 2 == 0:\n",
        "        result += str(2)\n",
        "    elif num % 3 == 0:\n",
        "        result += str(3)\n",
        "    elif num % 5 == 0 and num % 3 != 0:\n",
        "        result += str(5)\n",
        "    else:\n",
        "        result = \"Не делится нацело\"\n",
        "    return result\n",
        "\n",
        "\n",
        "num = int(input(\"Введите целое число от 1 до 100 - \"))\n",
        "print(get_result(num))"
      ],
      "execution_count": null,
      "outputs": [
        {
          "output_type": "stream",
          "name": "stdout",
          "text": [
            "Введите целое число от 1 до 100 - 23\n",
            "Не делится нацело\n"
          ]
        }
      ]
    },
    {
      "cell_type": "markdown",
      "metadata": {
        "id": "RUzSZn7WE-9L"
      },
      "source": [
        "---  "
      ]
    },
    {
      "cell_type": "markdown",
      "metadata": {
        "id": "hqO6vkliIibL"
      },
      "source": [
        "## Задания для самостоятельного исполнения"
      ]
    },
    {
      "cell_type": "markdown",
      "metadata": {
        "id": "B0aZ2SSnI8zd"
      },
      "source": [
        "**Задания следует выполнять непосредственно в Блокноте.**  \n",
        "Для чего нужно иметь аккаунт на Google, скачать этот блокнот и загрузить к себе на гугль-диск, у себя открыть и редактировать.  \n",
        "Требования к коду и оформлению:  \n",
        "> Задачи выполнять с использованием структурных операторов ветвления  \n",
        "> Интерфейс пользователя и бизнес-логику разделять в программном коде - бизнес-логику выносить в функцию."
      ]
    },
    {
      "cell_type": "code",
      "metadata": {
        "colab": {
          "base_uri": "https://localhost:8080/"
        },
        "id": "5I6uHxt53Dsw",
        "outputId": "d91e7c7e-d5d9-41de-c96a-c9d8a5ec3866"
      },
      "source": [
        "# это пример оформления программного кода\n",
        "def get_rectangle_area(a, b):\n",
        "    '''вычислить площадь прямоугольника по двум сторонам'''\n",
        "    result = a * b\n",
        "    return result\n",
        "\n",
        "\n",
        "side_x = int(input(\"Введите первую сторону прямоугольника - \"))\n",
        "side_y = int(input(\"Введите вторую сторону прямоугольника - \"))\n",
        "print(f\"Площадь прямоугольника = {get_rectangle_area(side_x, side_y)}\")"
      ],
      "execution_count": null,
      "outputs": [
        {
          "output_type": "stream",
          "name": "stdout",
          "text": [
            "Введите первую сторону прямоугольника - 4\n",
            "Введите вторую сторону прямоугольника - 6\n",
            "Площадь прямоугольника = 24\n"
          ]
        }
      ]
    },
    {
      "cell_type": "markdown",
      "metadata": {
        "id": "Gx5TnYjhOGKE"
      },
      "source": [
        "***Задания:***  "
      ]
    },
    {
      "cell_type": "markdown",
      "metadata": {
        "id": "vBxQvp6DIopX"
      },
      "source": [
        "\n",
        "1. Пользователь вводит число. Программа определяет его чётность/нечётность и выводит ответ в виде слова: «чётное» или «нечётное».\n",
        "\n",
        "2. Пользователь вводит два целых числа. Программа определяет: кратно\n",
        "ли большее из них по отношению к меньшему.  \n",
        "> Например, ввели два\n",
        "числа 11 и 33 – ответ: «33 кратно 11».\n",
        "\n",
        "3. Пусть даны три числа. Программа выбирает меньшее из трёх.  \n",
        "\n",
        "4. Пусть даны длины трёх отрезков. Программа определяет можно ли из них построить треугольник.  \n",
        "\n",
        "5. Пользователь вводит радиус круга. Программа в ответ выводит два ответа в столбик: длина окружности и площадь круга.  \n",
        "\n",
        "6. Пользователь вводит коэффициенты (a, b, c) квадратного уравнения.  \n",
        "> Программа ищет корни уравнения и выводит на экран.\n"
      ]
    },
    {
      "cell_type": "markdown",
      "metadata": {
        "id": "yqQZa7RnMLIS"
      },
      "source": [
        "---  \n",
        "\n",
        "Далее приведены заготовки под ваши решения:  "
      ]
    },
    {
      "cell_type": "code",
      "metadata": {
        "colab": {
          "base_uri": "https://localhost:8080/"
        },
        "id": "whS7K5_c9Gvl",
        "outputId": "ca6b82d9-3e32-4ec2-aace-398a3a9e46a9"
      },
      "source": [
        "# task 1\n",
        "# Пользователь вводит число. \n",
        "# Программа определяет его чётность/нечётность и \n",
        "# выводит ответ в виде слова: «чётное» или «нечётное».\n",
        "\n",
        "def is_even(num):\n",
        "    return num % 2 == 0\n",
        "\n",
        "\n",
        "num = int(input(\"Введите целое число - \"))\n",
        "print(\"четное\" if is_even(num) else \"нечетное\" )"
      ],
      "execution_count": null,
      "outputs": [
        {
          "output_type": "stream",
          "name": "stdout",
          "text": [
            "Введите целое число - 123\n",
            "нечетное\n"
          ]
        }
      ]
    },
    {
      "cell_type": "code",
      "metadata": {
        "id": "Bc4-Rg9lMBsq",
        "colab": {
          "base_uri": "https://localhost:8080/"
        },
        "outputId": "084d634e-4069-4f25-bc7a-e30cc43185ed"
      },
      "source": [
        "# task 2\n",
        "# Пользователь вводит два целых числа. Программа определяет: кратно ли большее из них по отношению к меньшему.\n",
        "\n",
        "n1 = int(input(\"n1=\"))\n",
        "n2 = int(input(\"n2=\"))\n",
        "mi = min(n1, n2)\n",
        "ma = max(n1, n2)\n",
        "if ma%mi==0:\n",
        "    print(str(ma)+\" кратно \"+str(mi))\n",
        "else:\n",
        "    print(str(ma)+\" не кратно \"+str(mi))\n"
      ],
      "execution_count": null,
      "outputs": [
        {
          "output_type": "stream",
          "name": "stdout",
          "text": [
            "n1=4\n",
            "n2=6\n",
            "6 не кратно 4\n"
          ]
        }
      ]
    },
    {
      "cell_type": "code",
      "source": [
        "#task 2 part 2\n",
        "\n",
        "def check_divisibility():\n",
        "    num1 = int(input(\"Введите первое целое число: \"))\n",
        "    num2 = int(input(\"Введите второе целое число: \"))\n",
        "\n",
        "    if num1 > num2:\n",
        "        bigger_num = num1\n",
        "        smaller_num = num2\n",
        "    else:\n",
        "        bigger_num = num2\n",
        "        smaller_num = num1\n",
        "\n",
        "    if bigger_num % smaller_num == 0:\n",
        "        print(f\"{bigger_num} кратно {smaller_num}\")\n",
        "    else:\n",
        "        print(f\"{bigger_num} не кратно {smaller_num}\")\n",
        "\n",
        "check_divisibility()"
      ],
      "metadata": {
        "colab": {
          "base_uri": "https://localhost:8080/"
        },
        "id": "io5J1TWy1ZWW",
        "outputId": "6a03f3a6-1076-4a35-db84-631d2fdfbee4"
      },
      "execution_count": 10,
      "outputs": [
        {
          "output_type": "stream",
          "name": "stdout",
          "text": [
            "Введите первое целое число: 564\n",
            "Введите второе целое число: 654\n",
            "654 не кратно 564\n"
          ]
        }
      ]
    },
    {
      "cell_type": "code",
      "metadata": {
        "id": "yK2T69wXMEJM",
        "colab": {
          "base_uri": "https://localhost:8080/"
        },
        "outputId": "ee1990ae-3013-4179-93f1-b3ef6c145ffa"
      },
      "source": [
        "# task 3\n",
        "# Пусть даны три числа. Программа выбирает меньшее из трёх.\n",
        "n1 = int(input(\"Первое число=\"))\n",
        "n2 = int(input(\"Второе число=\"))\n",
        "n3 = int(input(\"Третье число=\"))\n",
        "\n",
        "if n1 < n2 and n1 < n3:\n",
        "    print(f'{n1} наименьшее число')\n",
        "elif n2 < n1 and n2 < n3:\n",
        "    print(f'{n2} наименьшее число')\n",
        "elif n3 != n1 and n3 != n2:\n",
        "    print(f'{n3} наименьшее число')\n",
        "else:\n",
        "    print('Все числа равны')"
      ],
      "execution_count": 2,
      "outputs": [
        {
          "output_type": "stream",
          "name": "stdout",
          "text": [
            "Первое число=1\n",
            "Второе число=1\n",
            "Третье число=1\n",
            "Все числа равны\n"
          ]
        }
      ]
    },
    {
      "cell_type": "code",
      "source": [
        "# task 3\n",
        "\n",
        "def find_minimum():\n",
        "    num1 = float(input(\"Введите первое число: \"))\n",
        "    num2 = float(input(\"Введите второе число: \"))\n",
        "    num3 = float(input(\"Введите третье число: \"))\n",
        "\n",
        "    min_num = num1  \n",
        "\n",
        "    if num2 < min_num:\n",
        "        min_num = num2\n",
        "\n",
        "    if num3 < min_num:\n",
        "        min_num = num3\n",
        "\n",
        "    print(f\"Наименьшее число: {min_num}\")\n",
        "\n",
        "find_minimum()"
      ],
      "metadata": {
        "colab": {
          "base_uri": "https://localhost:8080/"
        },
        "id": "ICrl8lBP3O0P",
        "outputId": "8391b4cd-bebd-426d-8a72-a8aa112d8abc"
      },
      "execution_count": 12,
      "outputs": [
        {
          "output_type": "stream",
          "name": "stdout",
          "text": [
            "Введите первое число: 41\n",
            "Введите второе число: 45\n",
            "Введите третье число: 1\n",
            "Наименьшее число: 1.0\n"
          ]
        }
      ]
    },
    {
      "cell_type": "code",
      "metadata": {
        "id": "GAyGx5fbMFk_",
        "colab": {
          "base_uri": "https://localhost:8080/"
        },
        "outputId": "902a4943-79f6-4ac3-d266-20c1e219a257"
      },
      "source": [
        "# task 4\n",
        "#Пусть даны длины трёх отрезков. Программа определяет можно ли из них построить треугольник.\n",
        "\n",
        "\n",
        "n1 = int(input())\n",
        "n2 = int(input())\n",
        "n3 = int(input())\n",
        "\n",
        "if n1 < n2 + n3 and n2 < n1 + n3 and n3 < n1 + n2:\n",
        "    print(f'Из отрезков {n1} {n2 } {n3} возможно построить треугольник')\n",
        "else:\n",
        "    print(f'Из отрезков {n1} {n2 } {n3} не возможно построить треугольник')\n"
      ],
      "execution_count": null,
      "outputs": [
        {
          "output_type": "stream",
          "name": "stdout",
          "text": [
            "-3\n",
            "-5\n",
            "-3\n",
            "Из отрезков -3 -5 -3 не возможно построить треугольник\n"
          ]
        }
      ]
    },
    {
      "cell_type": "code",
      "source": [
        "#task 4 part 2\n",
        "#Пусть даны длины трёх отрезков. Программа определяет можно ли из них построить треугольник.\n",
        "\n",
        "def check_triangle():\n",
        "    side1 = float(input(\"Введите длину первого отрезка: \"))\n",
        "    side2 = float(input(\"Введите длину второго отрезка: \"))\n",
        "    side3 = float(input(\"Введите длину третьего отрезка: \"))\n",
        "\n",
        "    if side1 + side2 > side3 and side2 + side3 > side1 and side3 + side1 > side2:\n",
        "        print(\"Можно построить треугольник\")\n",
        "    else:\n",
        "        print(\"Нельзя построить треугольник\")\n",
        "\n",
        "check_triangle()\n"
      ],
      "metadata": {
        "colab": {
          "base_uri": "https://localhost:8080/"
        },
        "id": "K9-oOFq3Orvw",
        "outputId": "ec6c7d34-3fba-4761-c799-e19ca7df8ddd"
      },
      "execution_count": 13,
      "outputs": [
        {
          "output_type": "stream",
          "name": "stdout",
          "text": [
            "Введите длину первого отрезка: 56\n",
            "Введите длину второго отрезка: 45\n",
            "Введите длину третьего отрезка: 2\n",
            "Нельзя построить треугольник\n"
          ]
        }
      ]
    },
    {
      "cell_type": "code",
      "metadata": {
        "id": "Vr-QmUFSMGuN",
        "colab": {
          "base_uri": "https://localhost:8080/"
        },
        "outputId": "0565d2db-5174-4c80-e45f-3dbe46f51359"
      },
      "source": [
        "# task 5\n",
        "#Пользователь вводит радиус круга. Программа в ответ выводит два ответа в столбик: длина окружности и площадь круга.\n",
        "\n",
        "def calc_okr():\n",
        "    radius = float(input(\"Введите радиус круга: \"))\n",
        "\n",
        "    dl_okr = 2 * 3.14159 * radius\n",
        "    plo_okr = 3.14159 * radius ** 2\n",
        "\n",
        "    print(\"Длина окружности: \", dl_okr)\n",
        "    print(\"Площадь круга: \", plo_okr)\n",
        "\n",
        "calc_okr()"
      ],
      "execution_count": 15,
      "outputs": [
        {
          "output_type": "stream",
          "name": "stdout",
          "text": [
            "Введите радиус круга: 55\n",
            "Длина окружности:  345.5749\n",
            "Площадь круга:  9503.30975\n"
          ]
        }
      ]
    },
    {
      "cell_type": "code",
      "metadata": {
        "id": "g9WwePFVMInR",
        "colab": {
          "base_uri": "https://localhost:8080/"
        },
        "outputId": "1256e095-f7bf-4b28-c3d6-478d1a9aa458"
      },
      "source": [
        "# task 6\n",
        "#Пользователь вводит коэффициенты (a, b, c) квадратного уравнения.\n",
        "#Программа ищет корни уравнения и выводит на экран.\n",
        "\n",
        "def math_ya_ustal():\n",
        "    a = float(input(\"Введите коэффициент a: \"))\n",
        "    b = float(input(\"Введите коэффициент b: \"))\n",
        "    c = float(input(\"Введите коэффициент c: \"))\n",
        "\n",
        "    discriminant = b**2 - 4*a*c\n",
        "    \n",
        "    if discriminant > 0:\n",
        "        # Два различных корня\n",
        "        kkk1 = (-b + (discriminant ** 0.5)) / (2*a)\n",
        "        kkk2 = (-b - (discriminant ** 0.5)) / (2*a)\n",
        "        print(\"Корни уравнения:\", kkk1, \"и\", kkk2)\n",
        "    elif discriminant == 0:\n",
        "        # Один корень\n",
        "        kkk = -b / (2*a)\n",
        "        print(\"Уравнение имеет один корень:\", kkk)\n",
        "    else:\n",
        "        # Нет действительных корней\n",
        "        print(\"Уравнение не имеет действительных корней\")\n",
        "\n",
        "math_ya_ustal()\n",
        "\n",
        "#два корня : 1 -8 12\n",
        "#один корень : 1 -6 9"
      ],
      "execution_count": 22,
      "outputs": [
        {
          "output_type": "stream",
          "name": "stdout",
          "text": [
            "Введите коэффициент a: 1\n",
            "Введите коэффициент b: -6\n",
            "Введите коэффициент c: 9\n",
            "Уравнение имеет один корень: 3.0\n"
          ]
        }
      ]
    },
    {
      "cell_type": "markdown",
      "metadata": {
        "id": "0url4uMX5vOT"
      },
      "source": [
        "---  "
      ]
    },
    {
      "cell_type": "markdown",
      "metadata": {
        "id": "UI5AHWYhDd2P"
      },
      "source": [
        "## Вопросы для собеседования  "
      ]
    },
    {
      "cell_type": "markdown",
      "metadata": {
        "id": "uqC3pegiDmvn"
      },
      "source": [
        "- как ввести с клавиатуры целое число \n",
        "- арифметические операции целочисленного деления и вычисления остатка от целочисленного деления  \n",
        "- сокращённая форма записи арифметических операций  \n",
        "- различные способы округления вещественного числа  \n",
        "- возведение в степень числа  \n",
        "- операции сравнения  \n",
        "- побитовые операции: сдвиг влево, сдвиг вправо, инверсия  \n",
        "- побитовые операции: И, ИЛИ, исключающее ИЛИ  "
      ]
    },
    {
      "cell_type": "markdown",
      "source": [
        "Дополнительные разборы:"
      ],
      "metadata": {
        "id": "e9AP6GnMm5Iy"
      }
    },
    {
      "cell_type": "code",
      "source": [
        "x = 12\n",
        "y = 666\n",
        "print(x, y)\n",
        "print(x, y, sep=' - ')\n",
        "print(x, ' ', y)\n",
        "print(x, '\\t', y)\n",
        "print(f\"{x}\\t{y}\")\n",
        "print(f\"{str(x).ljust(6, ' ')}{y}\")"
      ],
      "metadata": {
        "colab": {
          "base_uri": "https://localhost:8080/"
        },
        "id": "crrIILXcm3p2",
        "outputId": "19111dfc-88dc-4e3f-c48b-24fffe24ba05"
      },
      "execution_count": null,
      "outputs": [
        {
          "output_type": "stream",
          "name": "stdout",
          "text": [
            "12 666\n",
            "12 - 666\n",
            "12   666\n",
            "12 \t 666\n",
            "12\t666\n",
            "12    666\n"
          ]
        }
      ]
    },
    {
      "cell_type": "code",
      "source": [
        "# Int16 - 2 = 65536  -32000 +32000\n",
        "# Int32 - 4\n",
        "# Int64 - 8\n",
        "\n",
        "x = 2**555\n",
        "print(x)\n",
        "print(len(str(x)))\n"
      ],
      "metadata": {
        "colab": {
          "base_uri": "https://localhost:8080/"
        },
        "id": "LVywKGBbofeN",
        "outputId": "1e8d3983-7031-4faa-81f1-8d990373b45f"
      },
      "execution_count": null,
      "outputs": [
        {
          "output_type": "stream",
          "name": "stdout",
          "text": [
            "117936325775673167257548580655883402841153788138013763386756446882675755074754651627691460161801836485670886719711370153117830769685149769767544820357271751364043603968\n",
            "168\n"
          ]
        }
      ]
    },
    {
      "cell_type": "code",
      "source": [
        "a = 6  # 0110\n",
        "print(bin(a))\n",
        "\n",
        "res = a << 1  # 0110 -> 1100\n",
        "\n",
        "print(res)\n",
        "print(bin(res))\n",
        "\n",
        "print(a << 3)  # 0110 -> 110000\n",
        "print(a >> 1)  # 0110 -> 0011"
      ],
      "metadata": {
        "colab": {
          "base_uri": "https://localhost:8080/"
        },
        "id": "idymSosvpdH5",
        "outputId": "64836561-d4d9-4576-8744-e156801a1425"
      },
      "execution_count": null,
      "outputs": [
        {
          "output_type": "stream",
          "name": "stdout",
          "text": [
            "0b110\n",
            "12\n",
            "0b1100\n",
            "48\n",
            "3\n"
          ]
        }
      ]
    },
    {
      "cell_type": "code",
      "source": [
        "x = 12\n",
        "y = 3\n",
        "if x < y:\n",
        "    print(0)\n",
        "else:\n",
        "    if x == y:\n",
        "        print(1)\n",
        "    else:\n",
        "        print(2)"
      ],
      "metadata": {
        "id": "uHUI3Qah4F7e"
      },
      "execution_count": null,
      "outputs": []
    }
  ]
}